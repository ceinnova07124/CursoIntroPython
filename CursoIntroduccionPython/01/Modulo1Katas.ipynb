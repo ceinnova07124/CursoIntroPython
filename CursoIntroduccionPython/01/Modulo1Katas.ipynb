{
 "cells": [
  {
   "cell_type": "markdown",
   "metadata": {},
   "source": [
    "## Modulo 1 Katas"
   ]
  },
  {
   "cell_type": "code",
   "execution_count": 1,
   "metadata": {},
   "outputs": [
    {
     "name": "stdout",
     "output_type": "stream",
     "text": [
      "Today date is: 2022-05-25\n"
     ]
    }
   ],
   "source": [
    "from datetime import date\n",
    "\n",
    "print('Today date is:', date.today())"
   ]
  },
  {
   "cell_type": "markdown",
   "metadata": {},
   "source": [
    "## Parsec a Años Luz"
   ]
  },
  {
   "cell_type": "code",
   "execution_count": 8,
   "metadata": {},
   "outputs": [
    {
     "name": "stdout",
     "output_type": "stream",
     "text": [
      "A continuación ingresa los parsec y yo los convertiré a Años luz\n",
      "Parsec ingresados:  11\n",
      "Convertidos a Años luz serían:  35.877159999999996\n"
     ]
    }
   ],
   "source": [
    "parsec_aniosLuz = 3.26156\n",
    "\n",
    "# Se debe hacer una multiplicación \n",
    "print(\"A continuación ingresa los parsec y yo los convertiré a Años luz\")\n",
    "aniosLuz = input(\"Ingresa los anios luz\")\n",
    "resultado = float(aniosLuz) * float(parsec_aniosLuz)\n",
    " \n",
    "print(\"Parsec ingresados: \", aniosLuz)\n",
    "print(\"Convertidos a Años luz serían: \", resultado)\n"
   ]
  }
 ],
 "metadata": {
  "interpreter": {
   "hash": "916dbcbb3f70747c44a77c7bcd40155683ae19c65e1c03b4aa3499c5328201f1"
  },
  "kernelspec": {
   "display_name": "Python 3.8.10 64-bit",
   "language": "python",
   "name": "python3"
  },
  "language_info": {
   "codemirror_mode": {
    "name": "ipython",
    "version": 3
   },
   "file_extension": ".py",
   "mimetype": "text/x-python",
   "name": "python",
   "nbconvert_exporter": "python",
   "pygments_lexer": "ipython3",
   "version": "3.8.10"
  },
  "orig_nbformat": 4
 },
 "nbformat": 4,
 "nbformat_minor": 2
}
